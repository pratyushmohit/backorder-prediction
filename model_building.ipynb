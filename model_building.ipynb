{
 "cells": [
  {
   "cell_type": "markdown",
   "id": "1c301ce5-f902-46f2-9394-76e2fe55a6e8",
   "metadata": {},
   "source": [
    "<h1 style=font-size:40px>Predicting Material Backorders in Inventory Management</h1>"
   ]
  },
  {
   "cell_type": "code",
   "execution_count": 201,
   "id": "f1d82497-c14b-473c-a04c-d8bbd315cd84",
   "metadata": {},
   "outputs": [],
   "source": [
    "import numpy as np\n",
    "import pandas as pd\n",
    "import matplotlib.pyplot as plt\n",
    "import seaborn as sns\n",
    "from sklearn.preprocessing import RobustScaler\n",
    "from sklearn.model_selection import GridSearchCV, RandomizedSearchCV\n",
    "from sklearn.linear_model import SGDClassifier\n",
    "from sklearn.tree import DecisionTreeClassifier\n",
    "from sklearn.ensemble import RandomForestClassifier\n",
    "from xgboost import XGBClassifier\n",
    "\n",
    "from imblearn.over_sampling import SMOTE\n",
    "\n",
    "from sklearn.metrics import accuracy_score, confusion_matrix, precision_score, recall_score, roc_auc_score, roc_curve, auc\n",
    "import pickle\n",
    "\n",
    "import warnings\n",
    "warnings.filterwarnings(\"ignore\")"
   ]
  },
  {
   "cell_type": "code",
   "execution_count": 2,
   "id": "217b3e93-41bc-4a34-a1de-6b15f9acb192",
   "metadata": {},
   "outputs": [],
   "source": [
    "train = pd.read_csv('preprocessed_train.csv')\n",
    "test = pd.read_csv('preprocessed_test.csv')"
   ]
  },
  {
   "cell_type": "code",
   "execution_count": 3,
   "id": "dfe3570f-fd30-426d-9b5c-54f319d2ed90",
   "metadata": {},
   "outputs": [
    {
     "data": {
      "text/html": [
       "<div>\n",
       "<style scoped>\n",
       "    .dataframe tbody tr th:only-of-type {\n",
       "        vertical-align: middle;\n",
       "    }\n",
       "\n",
       "    .dataframe tbody tr th {\n",
       "        vertical-align: top;\n",
       "    }\n",
       "\n",
       "    .dataframe thead th {\n",
       "        text-align: right;\n",
       "    }\n",
       "</style>\n",
       "<table border=\"1\" class=\"dataframe\">\n",
       "  <thead>\n",
       "    <tr style=\"text-align: right;\">\n",
       "      <th></th>\n",
       "      <th>Unnamed: 0</th>\n",
       "      <th>national_inv</th>\n",
       "      <th>lead_time</th>\n",
       "      <th>in_transit_qty</th>\n",
       "      <th>forecast_3_month</th>\n",
       "      <th>forecast_6_month</th>\n",
       "      <th>forecast_9_month</th>\n",
       "      <th>sales_1_month</th>\n",
       "      <th>sales_3_month</th>\n",
       "      <th>sales_6_month</th>\n",
       "      <th>...</th>\n",
       "      <th>perf_12_month_avg</th>\n",
       "      <th>local_bo_qty</th>\n",
       "      <th>deck_risk</th>\n",
       "      <th>oe_constraint</th>\n",
       "      <th>ppap_risk</th>\n",
       "      <th>stop_auto_buy</th>\n",
       "      <th>rev_stop</th>\n",
       "      <th>went_on_backorder</th>\n",
       "      <th>binary_pieces_past_due</th>\n",
       "      <th>binary_local_bo_qty</th>\n",
       "    </tr>\n",
       "  </thead>\n",
       "  <tbody>\n",
       "    <tr>\n",
       "      <th>0</th>\n",
       "      <td>0</td>\n",
       "      <td>0.0</td>\n",
       "      <td>7.872267</td>\n",
       "      <td>0.0</td>\n",
       "      <td>0.0</td>\n",
       "      <td>0.0</td>\n",
       "      <td>0.0</td>\n",
       "      <td>0.0</td>\n",
       "      <td>0.0</td>\n",
       "      <td>0.0</td>\n",
       "      <td>...</td>\n",
       "      <td>-99.00</td>\n",
       "      <td>0.0</td>\n",
       "      <td>0.764874</td>\n",
       "      <td>0.993169</td>\n",
       "      <td>0.873587</td>\n",
       "      <td>0.957397</td>\n",
       "      <td>0.992876</td>\n",
       "      <td>0</td>\n",
       "      <td>0</td>\n",
       "      <td>0</td>\n",
       "    </tr>\n",
       "    <tr>\n",
       "      <th>1</th>\n",
       "      <td>1</td>\n",
       "      <td>2.0</td>\n",
       "      <td>9.000000</td>\n",
       "      <td>0.0</td>\n",
       "      <td>0.0</td>\n",
       "      <td>0.0</td>\n",
       "      <td>0.0</td>\n",
       "      <td>0.0</td>\n",
       "      <td>0.0</td>\n",
       "      <td>0.0</td>\n",
       "      <td>...</td>\n",
       "      <td>0.99</td>\n",
       "      <td>0.0</td>\n",
       "      <td>0.764874</td>\n",
       "      <td>0.993169</td>\n",
       "      <td>0.873587</td>\n",
       "      <td>0.957397</td>\n",
       "      <td>0.992876</td>\n",
       "      <td>0</td>\n",
       "      <td>0</td>\n",
       "      <td>0</td>\n",
       "    </tr>\n",
       "  </tbody>\n",
       "</table>\n",
       "<p>2 rows × 25 columns</p>\n",
       "</div>"
      ],
      "text/plain": [
       "   Unnamed: 0  national_inv  lead_time  in_transit_qty  forecast_3_month  \\\n",
       "0           0           0.0   7.872267             0.0               0.0   \n",
       "1           1           2.0   9.000000             0.0               0.0   \n",
       "\n",
       "   forecast_6_month  forecast_9_month  sales_1_month  sales_3_month  \\\n",
       "0               0.0               0.0            0.0            0.0   \n",
       "1               0.0               0.0            0.0            0.0   \n",
       "\n",
       "   sales_6_month  ...  perf_12_month_avg  local_bo_qty  deck_risk  \\\n",
       "0            0.0  ...             -99.00           0.0   0.764874   \n",
       "1            0.0  ...               0.99           0.0   0.764874   \n",
       "\n",
       "   oe_constraint  ppap_risk  stop_auto_buy  rev_stop  went_on_backorder  \\\n",
       "0       0.993169   0.873587       0.957397  0.992876                  0   \n",
       "1       0.993169   0.873587       0.957397  0.992876                  0   \n",
       "\n",
       "   binary_pieces_past_due  binary_local_bo_qty  \n",
       "0                       0                    0  \n",
       "1                       0                    0  \n",
       "\n",
       "[2 rows x 25 columns]"
      ]
     },
     "execution_count": 3,
     "metadata": {},
     "output_type": "execute_result"
    }
   ],
   "source": [
    "train.head(2)"
   ]
  },
  {
   "cell_type": "code",
   "execution_count": 4,
   "id": "9bb15574-8cdf-4f8c-8a25-4664d6ecb904",
   "metadata": {},
   "outputs": [
    {
     "data": {
      "text/html": [
       "<div>\n",
       "<style scoped>\n",
       "    .dataframe tbody tr th:only-of-type {\n",
       "        vertical-align: middle;\n",
       "    }\n",
       "\n",
       "    .dataframe tbody tr th {\n",
       "        vertical-align: top;\n",
       "    }\n",
       "\n",
       "    .dataframe thead th {\n",
       "        text-align: right;\n",
       "    }\n",
       "</style>\n",
       "<table border=\"1\" class=\"dataframe\">\n",
       "  <thead>\n",
       "    <tr style=\"text-align: right;\">\n",
       "      <th></th>\n",
       "      <th>Unnamed: 0</th>\n",
       "      <th>national_inv</th>\n",
       "      <th>lead_time</th>\n",
       "      <th>in_transit_qty</th>\n",
       "      <th>forecast_3_month</th>\n",
       "      <th>forecast_6_month</th>\n",
       "      <th>forecast_9_month</th>\n",
       "      <th>sales_1_month</th>\n",
       "      <th>sales_3_month</th>\n",
       "      <th>sales_6_month</th>\n",
       "      <th>...</th>\n",
       "      <th>perf_12_month_avg</th>\n",
       "      <th>local_bo_qty</th>\n",
       "      <th>deck_risk</th>\n",
       "      <th>oe_constraint</th>\n",
       "      <th>ppap_risk</th>\n",
       "      <th>stop_auto_buy</th>\n",
       "      <th>rev_stop</th>\n",
       "      <th>went_on_backorder</th>\n",
       "      <th>binary_pieces_past_due</th>\n",
       "      <th>binary_local_bo_qty</th>\n",
       "    </tr>\n",
       "  </thead>\n",
       "  <tbody>\n",
       "    <tr>\n",
       "      <th>0</th>\n",
       "      <td>0</td>\n",
       "      <td>62.0</td>\n",
       "      <td>7.872267</td>\n",
       "      <td>0.0</td>\n",
       "      <td>0.0</td>\n",
       "      <td>0.0</td>\n",
       "      <td>0.0</td>\n",
       "      <td>0.0</td>\n",
       "      <td>0.0</td>\n",
       "      <td>0.0</td>\n",
       "      <td>...</td>\n",
       "      <td>-99.0</td>\n",
       "      <td>0.0</td>\n",
       "      <td>0.228435</td>\n",
       "      <td>0.993169</td>\n",
       "      <td>0.873587</td>\n",
       "      <td>0.957397</td>\n",
       "      <td>0.992876</td>\n",
       "      <td>0</td>\n",
       "      <td>0</td>\n",
       "      <td>0</td>\n",
       "    </tr>\n",
       "    <tr>\n",
       "      <th>1</th>\n",
       "      <td>1</td>\n",
       "      <td>9.0</td>\n",
       "      <td>7.872267</td>\n",
       "      <td>0.0</td>\n",
       "      <td>0.0</td>\n",
       "      <td>0.0</td>\n",
       "      <td>0.0</td>\n",
       "      <td>0.0</td>\n",
       "      <td>0.0</td>\n",
       "      <td>0.0</td>\n",
       "      <td>...</td>\n",
       "      <td>-99.0</td>\n",
       "      <td>0.0</td>\n",
       "      <td>0.764874</td>\n",
       "      <td>0.993169</td>\n",
       "      <td>0.119723</td>\n",
       "      <td>0.035912</td>\n",
       "      <td>0.992876</td>\n",
       "      <td>0</td>\n",
       "      <td>0</td>\n",
       "      <td>0</td>\n",
       "    </tr>\n",
       "  </tbody>\n",
       "</table>\n",
       "<p>2 rows × 25 columns</p>\n",
       "</div>"
      ],
      "text/plain": [
       "   Unnamed: 0  national_inv  lead_time  in_transit_qty  forecast_3_month  \\\n",
       "0           0          62.0   7.872267             0.0               0.0   \n",
       "1           1           9.0   7.872267             0.0               0.0   \n",
       "\n",
       "   forecast_6_month  forecast_9_month  sales_1_month  sales_3_month  \\\n",
       "0               0.0               0.0            0.0            0.0   \n",
       "1               0.0               0.0            0.0            0.0   \n",
       "\n",
       "   sales_6_month  ...  perf_12_month_avg  local_bo_qty  deck_risk  \\\n",
       "0            0.0  ...              -99.0           0.0   0.228435   \n",
       "1            0.0  ...              -99.0           0.0   0.764874   \n",
       "\n",
       "   oe_constraint  ppap_risk  stop_auto_buy  rev_stop  went_on_backorder  \\\n",
       "0       0.993169   0.873587       0.957397  0.992876                  0   \n",
       "1       0.993169   0.119723       0.035912  0.992876                  0   \n",
       "\n",
       "   binary_pieces_past_due  binary_local_bo_qty  \n",
       "0                       0                    0  \n",
       "1                       0                    0  \n",
       "\n",
       "[2 rows x 25 columns]"
      ]
     },
     "execution_count": 4,
     "metadata": {},
     "output_type": "execute_result"
    }
   ],
   "source": [
    "test.head(2)"
   ]
  },
  {
   "cell_type": "code",
   "execution_count": 5,
   "id": "1efd95c2-d021-4210-9266-6a0e3f752f9a",
   "metadata": {},
   "outputs": [],
   "source": [
    "train.drop('Unnamed: 0', axis=1, inplace=True)\n",
    "test.drop('Unnamed: 0', axis=1, inplace=True)"
   ]
  },
  {
   "cell_type": "code",
   "execution_count": 6,
   "id": "fc41f7d4-2909-47a6-9cdf-79d7d4f290ca",
   "metadata": {},
   "outputs": [
    {
     "data": {
      "text/html": [
       "<div>\n",
       "<style scoped>\n",
       "    .dataframe tbody tr th:only-of-type {\n",
       "        vertical-align: middle;\n",
       "    }\n",
       "\n",
       "    .dataframe tbody tr th {\n",
       "        vertical-align: top;\n",
       "    }\n",
       "\n",
       "    .dataframe thead th {\n",
       "        text-align: right;\n",
       "    }\n",
       "</style>\n",
       "<table border=\"1\" class=\"dataframe\">\n",
       "  <thead>\n",
       "    <tr style=\"text-align: right;\">\n",
       "      <th></th>\n",
       "      <th>national_inv</th>\n",
       "      <th>lead_time</th>\n",
       "      <th>in_transit_qty</th>\n",
       "      <th>forecast_3_month</th>\n",
       "      <th>forecast_6_month</th>\n",
       "      <th>forecast_9_month</th>\n",
       "      <th>sales_1_month</th>\n",
       "      <th>sales_3_month</th>\n",
       "      <th>sales_6_month</th>\n",
       "      <th>sales_9_month</th>\n",
       "      <th>...</th>\n",
       "      <th>perf_12_month_avg</th>\n",
       "      <th>local_bo_qty</th>\n",
       "      <th>deck_risk</th>\n",
       "      <th>oe_constraint</th>\n",
       "      <th>ppap_risk</th>\n",
       "      <th>stop_auto_buy</th>\n",
       "      <th>rev_stop</th>\n",
       "      <th>went_on_backorder</th>\n",
       "      <th>binary_pieces_past_due</th>\n",
       "      <th>binary_local_bo_qty</th>\n",
       "    </tr>\n",
       "  </thead>\n",
       "  <tbody>\n",
       "    <tr>\n",
       "      <th>0</th>\n",
       "      <td>0.0</td>\n",
       "      <td>7.872267</td>\n",
       "      <td>0.0</td>\n",
       "      <td>0.0</td>\n",
       "      <td>0.0</td>\n",
       "      <td>0.0</td>\n",
       "      <td>0.0</td>\n",
       "      <td>0.0</td>\n",
       "      <td>0.0</td>\n",
       "      <td>0.0</td>\n",
       "      <td>...</td>\n",
       "      <td>-99.00</td>\n",
       "      <td>0.0</td>\n",
       "      <td>0.764874</td>\n",
       "      <td>0.993169</td>\n",
       "      <td>0.873587</td>\n",
       "      <td>0.957397</td>\n",
       "      <td>0.992876</td>\n",
       "      <td>0</td>\n",
       "      <td>0</td>\n",
       "      <td>0</td>\n",
       "    </tr>\n",
       "    <tr>\n",
       "      <th>1</th>\n",
       "      <td>2.0</td>\n",
       "      <td>9.000000</td>\n",
       "      <td>0.0</td>\n",
       "      <td>0.0</td>\n",
       "      <td>0.0</td>\n",
       "      <td>0.0</td>\n",
       "      <td>0.0</td>\n",
       "      <td>0.0</td>\n",
       "      <td>0.0</td>\n",
       "      <td>0.0</td>\n",
       "      <td>...</td>\n",
       "      <td>0.99</td>\n",
       "      <td>0.0</td>\n",
       "      <td>0.764874</td>\n",
       "      <td>0.993169</td>\n",
       "      <td>0.873587</td>\n",
       "      <td>0.957397</td>\n",
       "      <td>0.992876</td>\n",
       "      <td>0</td>\n",
       "      <td>0</td>\n",
       "      <td>0</td>\n",
       "    </tr>\n",
       "    <tr>\n",
       "      <th>2</th>\n",
       "      <td>2.0</td>\n",
       "      <td>7.872267</td>\n",
       "      <td>0.0</td>\n",
       "      <td>0.0</td>\n",
       "      <td>0.0</td>\n",
       "      <td>0.0</td>\n",
       "      <td>0.0</td>\n",
       "      <td>0.0</td>\n",
       "      <td>0.0</td>\n",
       "      <td>0.0</td>\n",
       "      <td>...</td>\n",
       "      <td>-99.00</td>\n",
       "      <td>0.0</td>\n",
       "      <td>0.228435</td>\n",
       "      <td>0.993169</td>\n",
       "      <td>0.873587</td>\n",
       "      <td>0.957397</td>\n",
       "      <td>0.992876</td>\n",
       "      <td>0</td>\n",
       "      <td>0</td>\n",
       "      <td>0</td>\n",
       "    </tr>\n",
       "    <tr>\n",
       "      <th>3</th>\n",
       "      <td>7.0</td>\n",
       "      <td>8.000000</td>\n",
       "      <td>0.0</td>\n",
       "      <td>0.0</td>\n",
       "      <td>0.0</td>\n",
       "      <td>0.0</td>\n",
       "      <td>0.0</td>\n",
       "      <td>0.0</td>\n",
       "      <td>0.0</td>\n",
       "      <td>0.0</td>\n",
       "      <td>...</td>\n",
       "      <td>0.13</td>\n",
       "      <td>0.0</td>\n",
       "      <td>0.764874</td>\n",
       "      <td>0.993169</td>\n",
       "      <td>0.873587</td>\n",
       "      <td>0.957397</td>\n",
       "      <td>0.992876</td>\n",
       "      <td>0</td>\n",
       "      <td>0</td>\n",
       "      <td>0</td>\n",
       "    </tr>\n",
       "    <tr>\n",
       "      <th>4</th>\n",
       "      <td>8.0</td>\n",
       "      <td>7.872267</td>\n",
       "      <td>0.0</td>\n",
       "      <td>0.0</td>\n",
       "      <td>0.0</td>\n",
       "      <td>0.0</td>\n",
       "      <td>0.0</td>\n",
       "      <td>0.0</td>\n",
       "      <td>0.0</td>\n",
       "      <td>4.0</td>\n",
       "      <td>...</td>\n",
       "      <td>-99.00</td>\n",
       "      <td>0.0</td>\n",
       "      <td>0.228435</td>\n",
       "      <td>0.993169</td>\n",
       "      <td>0.873587</td>\n",
       "      <td>0.957397</td>\n",
       "      <td>0.992876</td>\n",
       "      <td>0</td>\n",
       "      <td>0</td>\n",
       "      <td>0</td>\n",
       "    </tr>\n",
       "  </tbody>\n",
       "</table>\n",
       "<p>5 rows × 24 columns</p>\n",
       "</div>"
      ],
      "text/plain": [
       "   national_inv  lead_time  in_transit_qty  forecast_3_month  \\\n",
       "0           0.0   7.872267             0.0               0.0   \n",
       "1           2.0   9.000000             0.0               0.0   \n",
       "2           2.0   7.872267             0.0               0.0   \n",
       "3           7.0   8.000000             0.0               0.0   \n",
       "4           8.0   7.872267             0.0               0.0   \n",
       "\n",
       "   forecast_6_month  forecast_9_month  sales_1_month  sales_3_month  \\\n",
       "0               0.0               0.0            0.0            0.0   \n",
       "1               0.0               0.0            0.0            0.0   \n",
       "2               0.0               0.0            0.0            0.0   \n",
       "3               0.0               0.0            0.0            0.0   \n",
       "4               0.0               0.0            0.0            0.0   \n",
       "\n",
       "   sales_6_month  sales_9_month  ...  perf_12_month_avg  local_bo_qty  \\\n",
       "0            0.0            0.0  ...             -99.00           0.0   \n",
       "1            0.0            0.0  ...               0.99           0.0   \n",
       "2            0.0            0.0  ...             -99.00           0.0   \n",
       "3            0.0            0.0  ...               0.13           0.0   \n",
       "4            0.0            4.0  ...             -99.00           0.0   \n",
       "\n",
       "   deck_risk  oe_constraint  ppap_risk  stop_auto_buy  rev_stop  \\\n",
       "0   0.764874       0.993169   0.873587       0.957397  0.992876   \n",
       "1   0.764874       0.993169   0.873587       0.957397  0.992876   \n",
       "2   0.228435       0.993169   0.873587       0.957397  0.992876   \n",
       "3   0.764874       0.993169   0.873587       0.957397  0.992876   \n",
       "4   0.228435       0.993169   0.873587       0.957397  0.992876   \n",
       "\n",
       "   went_on_backorder  binary_pieces_past_due  binary_local_bo_qty  \n",
       "0                  0                       0                    0  \n",
       "1                  0                       0                    0  \n",
       "2                  0                       0                    0  \n",
       "3                  0                       0                    0  \n",
       "4                  0                       0                    0  \n",
       "\n",
       "[5 rows x 24 columns]"
      ]
     },
     "execution_count": 6,
     "metadata": {},
     "output_type": "execute_result"
    }
   ],
   "source": [
    "train.head()"
   ]
  },
  {
   "cell_type": "code",
   "execution_count": 7,
   "id": "d521ecd9-b06d-4910-bf0a-550cee1f098c",
   "metadata": {},
   "outputs": [
    {
     "data": {
      "text/html": [
       "<div>\n",
       "<style scoped>\n",
       "    .dataframe tbody tr th:only-of-type {\n",
       "        vertical-align: middle;\n",
       "    }\n",
       "\n",
       "    .dataframe tbody tr th {\n",
       "        vertical-align: top;\n",
       "    }\n",
       "\n",
       "    .dataframe thead th {\n",
       "        text-align: right;\n",
       "    }\n",
       "</style>\n",
       "<table border=\"1\" class=\"dataframe\">\n",
       "  <thead>\n",
       "    <tr style=\"text-align: right;\">\n",
       "      <th></th>\n",
       "      <th>national_inv</th>\n",
       "      <th>lead_time</th>\n",
       "      <th>in_transit_qty</th>\n",
       "      <th>forecast_3_month</th>\n",
       "      <th>forecast_6_month</th>\n",
       "      <th>forecast_9_month</th>\n",
       "      <th>sales_1_month</th>\n",
       "      <th>sales_3_month</th>\n",
       "      <th>sales_6_month</th>\n",
       "      <th>sales_9_month</th>\n",
       "      <th>...</th>\n",
       "      <th>perf_12_month_avg</th>\n",
       "      <th>local_bo_qty</th>\n",
       "      <th>deck_risk</th>\n",
       "      <th>oe_constraint</th>\n",
       "      <th>ppap_risk</th>\n",
       "      <th>stop_auto_buy</th>\n",
       "      <th>rev_stop</th>\n",
       "      <th>went_on_backorder</th>\n",
       "      <th>binary_pieces_past_due</th>\n",
       "      <th>binary_local_bo_qty</th>\n",
       "    </tr>\n",
       "  </thead>\n",
       "  <tbody>\n",
       "    <tr>\n",
       "      <th>0</th>\n",
       "      <td>62.0</td>\n",
       "      <td>7.872267</td>\n",
       "      <td>0.0</td>\n",
       "      <td>0.0</td>\n",
       "      <td>0.0</td>\n",
       "      <td>0.0</td>\n",
       "      <td>0.0</td>\n",
       "      <td>0.0</td>\n",
       "      <td>0.0</td>\n",
       "      <td>0.0</td>\n",
       "      <td>...</td>\n",
       "      <td>-99.00</td>\n",
       "      <td>0.0</td>\n",
       "      <td>0.228435</td>\n",
       "      <td>0.993169</td>\n",
       "      <td>0.873587</td>\n",
       "      <td>0.957397</td>\n",
       "      <td>0.992876</td>\n",
       "      <td>0</td>\n",
       "      <td>0</td>\n",
       "      <td>0</td>\n",
       "    </tr>\n",
       "    <tr>\n",
       "      <th>1</th>\n",
       "      <td>9.0</td>\n",
       "      <td>7.872267</td>\n",
       "      <td>0.0</td>\n",
       "      <td>0.0</td>\n",
       "      <td>0.0</td>\n",
       "      <td>0.0</td>\n",
       "      <td>0.0</td>\n",
       "      <td>0.0</td>\n",
       "      <td>0.0</td>\n",
       "      <td>0.0</td>\n",
       "      <td>...</td>\n",
       "      <td>-99.00</td>\n",
       "      <td>0.0</td>\n",
       "      <td>0.764874</td>\n",
       "      <td>0.993169</td>\n",
       "      <td>0.119723</td>\n",
       "      <td>0.035912</td>\n",
       "      <td>0.992876</td>\n",
       "      <td>0</td>\n",
       "      <td>0</td>\n",
       "      <td>0</td>\n",
       "    </tr>\n",
       "    <tr>\n",
       "      <th>2</th>\n",
       "      <td>17.0</td>\n",
       "      <td>8.000000</td>\n",
       "      <td>0.0</td>\n",
       "      <td>0.0</td>\n",
       "      <td>0.0</td>\n",
       "      <td>0.0</td>\n",
       "      <td>0.0</td>\n",
       "      <td>0.0</td>\n",
       "      <td>0.0</td>\n",
       "      <td>0.0</td>\n",
       "      <td>...</td>\n",
       "      <td>0.95</td>\n",
       "      <td>0.0</td>\n",
       "      <td>0.764874</td>\n",
       "      <td>0.993169</td>\n",
       "      <td>0.873587</td>\n",
       "      <td>0.957397</td>\n",
       "      <td>0.992876</td>\n",
       "      <td>0</td>\n",
       "      <td>0</td>\n",
       "      <td>0</td>\n",
       "    </tr>\n",
       "    <tr>\n",
       "      <th>3</th>\n",
       "      <td>9.0</td>\n",
       "      <td>2.000000</td>\n",
       "      <td>0.0</td>\n",
       "      <td>0.0</td>\n",
       "      <td>0.0</td>\n",
       "      <td>0.0</td>\n",
       "      <td>0.0</td>\n",
       "      <td>0.0</td>\n",
       "      <td>0.0</td>\n",
       "      <td>2.0</td>\n",
       "      <td>...</td>\n",
       "      <td>0.75</td>\n",
       "      <td>0.0</td>\n",
       "      <td>0.764874</td>\n",
       "      <td>0.993169</td>\n",
       "      <td>0.119723</td>\n",
       "      <td>0.957397</td>\n",
       "      <td>0.992876</td>\n",
       "      <td>0</td>\n",
       "      <td>0</td>\n",
       "      <td>0</td>\n",
       "    </tr>\n",
       "    <tr>\n",
       "      <th>4</th>\n",
       "      <td>2.0</td>\n",
       "      <td>8.000000</td>\n",
       "      <td>0.0</td>\n",
       "      <td>0.0</td>\n",
       "      <td>0.0</td>\n",
       "      <td>0.0</td>\n",
       "      <td>0.0</td>\n",
       "      <td>0.0</td>\n",
       "      <td>0.0</td>\n",
       "      <td>0.0</td>\n",
       "      <td>...</td>\n",
       "      <td>0.71</td>\n",
       "      <td>0.0</td>\n",
       "      <td>0.764874</td>\n",
       "      <td>0.993169</td>\n",
       "      <td>0.873587</td>\n",
       "      <td>0.957397</td>\n",
       "      <td>0.992876</td>\n",
       "      <td>0</td>\n",
       "      <td>0</td>\n",
       "      <td>0</td>\n",
       "    </tr>\n",
       "  </tbody>\n",
       "</table>\n",
       "<p>5 rows × 24 columns</p>\n",
       "</div>"
      ],
      "text/plain": [
       "   national_inv  lead_time  in_transit_qty  forecast_3_month  \\\n",
       "0          62.0   7.872267             0.0               0.0   \n",
       "1           9.0   7.872267             0.0               0.0   \n",
       "2          17.0   8.000000             0.0               0.0   \n",
       "3           9.0   2.000000             0.0               0.0   \n",
       "4           2.0   8.000000             0.0               0.0   \n",
       "\n",
       "   forecast_6_month  forecast_9_month  sales_1_month  sales_3_month  \\\n",
       "0               0.0               0.0            0.0            0.0   \n",
       "1               0.0               0.0            0.0            0.0   \n",
       "2               0.0               0.0            0.0            0.0   \n",
       "3               0.0               0.0            0.0            0.0   \n",
       "4               0.0               0.0            0.0            0.0   \n",
       "\n",
       "   sales_6_month  sales_9_month  ...  perf_12_month_avg  local_bo_qty  \\\n",
       "0            0.0            0.0  ...             -99.00           0.0   \n",
       "1            0.0            0.0  ...             -99.00           0.0   \n",
       "2            0.0            0.0  ...               0.95           0.0   \n",
       "3            0.0            2.0  ...               0.75           0.0   \n",
       "4            0.0            0.0  ...               0.71           0.0   \n",
       "\n",
       "   deck_risk  oe_constraint  ppap_risk  stop_auto_buy  rev_stop  \\\n",
       "0   0.228435       0.993169   0.873587       0.957397  0.992876   \n",
       "1   0.764874       0.993169   0.119723       0.035912  0.992876   \n",
       "2   0.764874       0.993169   0.873587       0.957397  0.992876   \n",
       "3   0.764874       0.993169   0.119723       0.957397  0.992876   \n",
       "4   0.764874       0.993169   0.873587       0.957397  0.992876   \n",
       "\n",
       "   went_on_backorder  binary_pieces_past_due  binary_local_bo_qty  \n",
       "0                  0                       0                    0  \n",
       "1                  0                       0                    0  \n",
       "2                  0                       0                    0  \n",
       "3                  0                       0                    0  \n",
       "4                  0                       0                    0  \n",
       "\n",
       "[5 rows x 24 columns]"
      ]
     },
     "execution_count": 7,
     "metadata": {},
     "output_type": "execute_result"
    }
   ],
   "source": [
    "test.head()"
   ]
  },
  {
   "cell_type": "code",
   "execution_count": 8,
   "id": "4b67d06b-110e-40bc-a144-5d75baf04cf7",
   "metadata": {},
   "outputs": [],
   "source": [
    "y_train = train['went_on_backorder']"
   ]
  },
  {
   "cell_type": "code",
   "execution_count": 9,
   "id": "794daaf5-e945-4288-b87e-540bbbd94897",
   "metadata": {},
   "outputs": [],
   "source": [
    "x_train = train.drop('went_on_backorder', axis=1)"
   ]
  },
  {
   "cell_type": "code",
   "execution_count": 10,
   "id": "cd278ea8-d9a6-4158-b820-a4660afaecb0",
   "metadata": {},
   "outputs": [],
   "source": [
    "y_test = test['went_on_backorder']"
   ]
  },
  {
   "cell_type": "code",
   "execution_count": 11,
   "id": "9340e1fc-fc99-4ee4-bb9d-6c6efe209dcb",
   "metadata": {},
   "outputs": [],
   "source": [
    "x_test = test.drop('went_on_backorder', axis=1)"
   ]
  },
  {
   "cell_type": "code",
   "execution_count": 12,
   "id": "448cffb5-321c-4fc9-b80a-6c676e0a861d",
   "metadata": {},
   "outputs": [
    {
     "name": "stdout",
     "output_type": "stream",
     "text": [
      "x_train: (1687860, 23)\n",
      "y_train: (1687860,)\n",
      "x_test: (242075, 23)\n",
      "y_test: (242075,)\n"
     ]
    }
   ],
   "source": [
    "print(f'x_train: {x_train.shape}')\n",
    "print(f'y_train: {y_train.shape}')\n",
    "print(f'x_test: {x_test.shape}')\n",
    "print(f'y_test: {y_test.shape}')"
   ]
  },
  {
   "cell_type": "markdown",
   "id": "0311430e-6ce2-496b-89be-236aff462d48",
   "metadata": {},
   "source": [
    "# Logistic Regression"
   ]
  },
  {
   "cell_type": "code",
   "execution_count": 45,
   "id": "e821b4b8-e03a-41fd-8d03-06923d8a47e2",
   "metadata": {},
   "outputs": [],
   "source": [
    "robust_scaler = RobustScaler()"
   ]
  },
  {
   "cell_type": "code",
   "execution_count": 46,
   "id": "943d832c-03bd-4e78-a3bd-03f99e50e7a3",
   "metadata": {},
   "outputs": [],
   "source": [
    "x_train_scaled = robust_scaler.fit_transform(x_train)"
   ]
  },
  {
   "cell_type": "code",
   "execution_count": 47,
   "id": "95387938-9bce-4a7f-b1dc-62e59a89b072",
   "metadata": {},
   "outputs": [],
   "source": [
    "x_test_scaled = robust_scaler.transform(x_test)"
   ]
  },
  {
   "cell_type": "code",
   "execution_count": 48,
   "id": "37d5086b-d7e6-486e-b313-3a00fbe0fab9",
   "metadata": {},
   "outputs": [],
   "source": [
    "logistic_regression = SGDClassifier(loss='log', class_weight='balanced', n_jobs=-1)"
   ]
  },
  {
   "cell_type": "code",
   "execution_count": 49,
   "id": "f2f2439f-fc0b-4050-8e31-ccc69b3af987",
   "metadata": {},
   "outputs": [],
   "source": [
    "params = {'eta0': [0.1, 0.01, 0.001, 0.0001, 1e-5, 1e-6, 1e-7], 'penalty': ['l1', 'l2']}"
   ]
  },
  {
   "cell_type": "code",
   "execution_count": 50,
   "id": "0a0a041d-6857-45e5-a53a-9d5d969d9122",
   "metadata": {},
   "outputs": [],
   "source": [
    "logist_grid_search = GridSearchCV(logistic_regression, params, cv=5, n_jobs=-1, scoring='accuracy', return_train_score=True)"
   ]
  },
  {
   "cell_type": "code",
   "execution_count": 51,
   "id": "7d10d5b4-cbdf-40b4-b8d7-ef7f9b52f832",
   "metadata": {},
   "outputs": [
    {
     "data": {
      "text/plain": [
       "GridSearchCV(cv=5,\n",
       "             estimator=SGDClassifier(class_weight='balanced', loss='log',\n",
       "                                     n_jobs=-1),\n",
       "             n_jobs=-1,\n",
       "             param_grid={'eta0': [0.1, 0.01, 0.001, 0.0001, 1e-05, 1e-06,\n",
       "                                  1e-07],\n",
       "                         'penalty': ['l1', 'l2']},\n",
       "             return_train_score=True, scoring='accuracy')"
      ]
     },
     "execution_count": 51,
     "metadata": {},
     "output_type": "execute_result"
    }
   ],
   "source": [
    "logist_grid_search.fit(x_train_scaled, y_train)"
   ]
  },
  {
   "cell_type": "code",
   "execution_count": 52,
   "id": "ae674a80-50b7-469b-bde2-04a6af2b5167",
   "metadata": {},
   "outputs": [],
   "source": [
    "best_eta0 = logist_grid_search.best_estimator_.eta0"
   ]
  },
  {
   "cell_type": "code",
   "execution_count": 53,
   "id": "758ce072-455f-4225-868a-dcec33e86a10",
   "metadata": {},
   "outputs": [],
   "source": [
    "best_penalty = logist_grid_search.best_estimator_.penalty"
   ]
  },
  {
   "cell_type": "code",
   "execution_count": 54,
   "id": "9eae523d-7c8e-4edf-af63-64119e6e1181",
   "metadata": {},
   "outputs": [],
   "source": [
    "best_logist = SGDClassifier(loss='log', learning_rate='constant', eta0=best_eta0, penalty=best_penalty, class_weight='balanced', n_jobs=-1)"
   ]
  },
  {
   "cell_type": "code",
   "execution_count": 55,
   "id": "cccb852e-3c34-4dcd-807a-5ce19a7c5496",
   "metadata": {},
   "outputs": [
    {
     "data": {
      "text/plain": [
       "SGDClassifier(class_weight='balanced', eta0=0.001, learning_rate='constant',\n",
       "              loss='log', n_jobs=-1, penalty='l1')"
      ]
     },
     "execution_count": 55,
     "metadata": {},
     "output_type": "execute_result"
    }
   ],
   "source": [
    "best_logist.fit(x_train_scaled, y_train)"
   ]
  },
  {
   "cell_type": "code",
   "execution_count": 56,
   "id": "4258a77b-d6fb-4c82-8ae7-b3c4eba044fa",
   "metadata": {},
   "outputs": [],
   "source": [
    "logist_y_pred_train = best_logist.predict(x_train_scaled)\n",
    "logist_y_pred = best_logist.predict(x_test_scaled)"
   ]
  },
  {
   "cell_type": "code",
   "execution_count": 57,
   "id": "40c11ac8-06ef-4c7b-b563-980cc026fc22",
   "metadata": {},
   "outputs": [
    {
     "name": "stdout",
     "output_type": "stream",
     "text": [
      "The accuracy score of the logistic regression model on train set is: 0.8023408339554229\n",
      "The accuracy score of the logistic regression model on test set is: 0.798430238562429\n"
     ]
    }
   ],
   "source": [
    "print('The accuracy score of the logistic regression model on train set is:', accuracy_score(y_train, logist_y_pred_train))\n",
    "print('The accuracy score of the logistic regression model on test set is:', accuracy_score(y_test, logist_y_pred))"
   ]
  },
  {
   "cell_type": "code",
   "execution_count": 58,
   "id": "7233dfbd-f928-45bd-8548-e272419831d0",
   "metadata": {},
   "outputs": [
    {
     "data": {
      "image/png": "[encoded data removed]",
      "text/plain": [
       "<Figure size 1080x360 with 4 Axes>"
      ]
     },
     "metadata": {
      "needs_background": "light"
     },
     "output_type": "display_data"
    }
   ],
   "source": [
    "plt.figure(figsize=(15,5))\n",
    "plt.subplot(1, 2, 1)\n",
    "sns.heatmap(confusion_matrix(y_train, logist_y_pred_train), annot=True)\n",
    "plt.title('Logistic Regression: Confusion matrix for train set')\n",
    "plt.xlabel('Predicted labels')\n",
    "plt.ylabel('True labels')\n",
    "\n",
    "plt.subplot(1, 2, 2)\n",
    "sns.heatmap(confusion_matrix(y_test, logist_y_pred), annot=True)\n",
    "plt.title('Logistic Regression: Confusion matrix for test set')\n",
    "plt.xlabel('Predicted labels')\n",
    "plt.ylabel('True labels')\n",
    "plt.show()"
   ]
  },
  {
   "cell_type": "code",
   "execution_count": 59,
   "id": "ef67b036-dd41-446f-810d-c95ed18a55db",
   "metadata": {},
   "outputs": [
    {
     "name": "stdout",
     "output_type": "stream",
     "text": [
      "The precision score the best logistic regression model on train set is: 0.5114060281441166\n",
      "The precision score the best logistic regression model on test set is: 0.5168904036883744\n"
     ]
    }
   ],
   "source": [
    "print('The precision score the best logistic regression model on train set is:', precision_score(y_train, logist_y_pred_train, average='macro'))\n",
    "print('The precision score the best logistic regression model on test set is:', precision_score(y_test, logist_y_pred, average='macro'))"
   ]
  },
  {
   "cell_type": "code",
   "execution_count": 60,
   "id": "6acd1578-dd9f-4dd4-aa15-070ace070b58",
   "metadata": {},
   "outputs": [
    {
     "name": "stdout",
     "output_type": "stream",
     "text": [
      "The recall score the best logistic regression model on train set is: 0.7756100808401734\n",
      "The recall score the best logistic regression model on test set is: 0.7516805417637151\n"
     ]
    }
   ],
   "source": [
    "print('The recall score the best logistic regression model on train set is:', recall_score(y_train, logist_y_pred_train, average='macro'))\n",
    "print('The recall score the best logistic regression model on test set is:', recall_score(y_test, logist_y_pred, average='macro'))"
   ]
  },
  {
   "cell_type": "code",
   "execution_count": 65,
   "id": "48438f52-b9d8-4691-9906-2c37d3dcc007",
   "metadata": {},
   "outputs": [
    {
     "name": "stdout",
     "output_type": "stream",
     "text": [
      "The AUC score the best logistic regression model on train set is: 0.7756100808401734\n",
      "The AUC score the best logistic regression model on test set is: 0.7516805417637152\n"
     ]
    }
   ],
   "source": [
    "print('The AUC score the best logistic regression model on train set is:', roc_auc_score(y_train, logist_y_pred_train, average='macro'))\n",
    "print('The AUC score the best logistic regression model on test set is:', roc_auc_score(y_test, logist_y_pred, average='macro'))"
   ]
  },
  {
   "cell_type": "code",
   "execution_count": 62,
   "id": "cad427f4-2540-4c00-9d8a-c676abfac675",
   "metadata": {},
   "outputs": [],
   "source": [
    "logist_y_train_pred = best_logist.predict_proba(x_train_scaled)[:,1]\n",
    "logist_y_test_pred = best_logist.predict_proba(x_test_scaled)[:,1]"
   ]
  },
  {
   "cell_type": "code",
   "execution_count": 63,
   "id": "27c23e31-97e6-44b4-8c64-4d4c41d9ea97",
   "metadata": {},
   "outputs": [],
   "source": [
    "train_fpr_logist, train_tpr_logist, train_thresholds_logist = roc_curve(y_train, logist_y_train_pred)\n",
    "test_fpr_logist, test_tpr_logist, test_thresholds_logist = roc_curve(y_test, logist_y_test_pred)"
   ]
  },
  {
   "cell_type": "code",
   "execution_count": 64,
   "id": "ee835c23-8df7-4304-a4c4-e2ec7fcfd765",
   "metadata": {},
   "outputs": [
    {
     "data": {
      "image/png": "[encoded data removed]",
      "text/plain": [
       "<Figure size 432x288 with 1 Axes>"
      ]
     },
     "metadata": {
      "needs_background": "light"
     },
     "output_type": "display_data"
    }
   ],
   "source": [
    "plt.plot(train_fpr_logist, train_tpr_logist, label=\"Train AUC =\"+' '+str(auc(train_fpr_logist, train_tpr_logist)))\n",
    "plt.plot(test_fpr_logist, test_tpr_logist, label=\"Test AUC =\"+' '+str(auc(test_fpr_logist, test_tpr_logist)))\n",
    "plt.legend()\n",
    "plt.xlabel(\"FPR\")\n",
    "plt.ylabel(\"TPR\")\n",
    "plt.title(\"Logistic Regression: ROC Curve\")\n",
    "plt.grid()\n",
    "plt.show()"
   ]
  },
  {
   "cell_type": "markdown",
   "id": "4550abbd-595e-4e0b-9cc9-f4fa502ff95d",
   "metadata": {},
   "source": [
    "# Decision Tree"
   ]
  },
  {
   "cell_type": "code",
   "execution_count": 82,
   "id": "8a6fe7ed-11b7-4af4-b1b8-2c9835d6875c",
   "metadata": {},
   "outputs": [],
   "source": [
    "cart = DecisionTreeClassifier(criterion='gini', class_weight='balanced')"
   ]
  },
  {
   "cell_type": "code",
   "execution_count": 83,
   "id": "19d97bb2-e36e-4ec4-9b15-46ad5c57bce9",
   "metadata": {},
   "outputs": [],
   "source": [
    "params = {'max_depth': [1, 2, 3, 4, 5, 6, 7, 8, 9, 10, 11, 12, 13, 14, 15]}"
   ]
  },
  {
   "cell_type": "code",
   "execution_count": 85,
   "id": "a46b8104-79d5-4350-b0dd-9eb8682371c7",
   "metadata": {},
   "outputs": [],
   "source": [
    "cart_grid_search = GridSearchCV(cart, params, cv=5, n_jobs=-1, scoring='roc_auc', return_train_score=True)"
   ]
  },
  {
   "cell_type": "code",
   "execution_count": 86,
   "id": "e7bad40a-c8d6-4b75-9dc3-ae2881a744af",
   "metadata": {},
   "outputs": [
    {
     "data": {
      "text/plain": [
       "GridSearchCV(cv=5, estimator=DecisionTreeClassifier(class_weight='balanced'),\n",
       "             n_jobs=-1,\n",
       "             param_grid={'max_depth': [1, 2, 3, 4, 5, 6, 7, 8, 9, 10, 11, 12,\n",
       "                                       13, 14, 15]},\n",
       "             return_train_score=True, scoring='roc_auc')"
      ]
     },
     "execution_count": 86,
     "metadata": {},
     "output_type": "execute_result"
    }
   ],
   "source": [
    "cart_grid_search.fit(x_train, y_train)"
   ]
  },
  {
   "cell_type": "code",
   "execution_count": 87,
   "id": "f7fbf967-3a54-4aa0-b941-f690d0d8b7c8",
   "metadata": {},
   "outputs": [],
   "source": [
    "best_max_depth_cart = cart_grid_search.best_estimator_.max_depth"
   ]
  },
  {
   "cell_type": "code",
   "execution_count": 110,
   "id": "a132a184-cf95-4055-abc0-5a1fc477341e",
   "metadata": {},
   "outputs": [],
   "source": [
    "best_cart = DecisionTreeClassifier(criterion='gini', max_depth=best_max_depth_cart, class_weight='balanced')"
   ]
  },
  {
   "cell_type": "code",
   "execution_count": 111,
   "id": "decd4a7d-2da8-40ab-ab5d-3e769218a207",
   "metadata": {},
   "outputs": [
    {
     "data": {
      "text/plain": [
       "DecisionTreeClassifier(class_weight='balanced', max_depth=8)"
      ]
     },
     "execution_count": 111,
     "metadata": {},
     "output_type": "execute_result"
    }
   ],
   "source": [
    "best_cart.fit(x_train, y_train)"
   ]
  },
  {
   "cell_type": "code",
   "execution_count": 112,
   "id": "9615c47e-307d-45cd-b41a-faff69a439a5",
   "metadata": {},
   "outputs": [],
   "source": [
    "cart_y_pred_train = best_cart.predict(x_train)\n",
    "cart_y_pred = best_cart.predict(x_test)"
   ]
  },
  {
   "cell_type": "code",
   "execution_count": 113,
   "id": "fceefc48-216c-4401-ad5b-bb228a0a4c4f",
   "metadata": {},
   "outputs": [
    {
     "name": "stdout",
     "output_type": "stream",
     "text": [
      "The accuracy score of the decision tree model on train set is: 0.8645657815221641\n",
      "The accuracy score of the decision tree model on test set is: 0.8729980377982031\n"
     ]
    }
   ],
   "source": [
    "print('The accuracy score of the decision tree model on train set is:', accuracy_score(y_train, cart_y_pred_train))\n",
    "print('The accuracy score of the decision tree model on test set is:', accuracy_score(y_test, cart_y_pred))"
   ]
  },
  {
   "cell_type": "code",
   "execution_count": 114,
   "id": "81ddd82c-17fd-40d4-a7b0-b557ad7b2684",
   "metadata": {},
   "outputs": [
    {
     "data": {
      "image/png": "[encoded data removed]",
      "text/plain": [
       "<Figure size 1080x360 with 4 Axes>"
      ]
     },
     "metadata": {
      "needs_background": "light"
     },
     "output_type": "display_data"
    }
   ],
   "source": [
    "plt.figure(figsize=(15,5))\n",
    "plt.subplot(1, 2, 1)\n",
    "sns.heatmap(confusion_matrix(y_train, cart_y_pred_train), annot=True, cmap='mako')\n",
    "plt.title('Decision Tree: Confusion matrix for train set')\n",
    "plt.xlabel('Predicted labels')\n",
    "plt.ylabel('True labels')\n",
    "\n",
    "plt.subplot(1, 2, 2)\n",
    "sns.heatmap(confusion_matrix(y_test, cart_y_pred), annot=True, cmap='mako')\n",
    "plt.title('Decision Tree: Confusion matrix for test set')\n",
    "plt.xlabel('Predicted labels')\n",
    "plt.ylabel('True labels')\n",
    "plt.show()"
   ]
  },
  {
   "cell_type": "code",
   "execution_count": 115,
   "id": "3d90dcc0-a9d8-44b3-ba9f-298cfa8218f1",
   "metadata": {},
   "outputs": [
    {
     "name": "stdout",
     "output_type": "stream",
     "text": [
      "The precision score the best decision tree model on train set is: 0.5211217424892802\n",
      "The precision score the best decision tree model on test set is: 0.5327123298788503\n"
     ]
    }
   ],
   "source": [
    "print('The precision score the best decision tree model on train set is:', precision_score(y_train, cart_y_pred_train, average='macro'))\n",
    "print('The precision score the best decision tree model on test set is:', precision_score(y_test, cart_y_pred, average='macro'))"
   ]
  },
  {
   "cell_type": "code",
   "execution_count": 116,
   "id": "c031c6e9-ab99-49f4-89c8-409e8cbd4535",
   "metadata": {},
   "outputs": [
    {
     "name": "stdout",
     "output_type": "stream",
     "text": [
      "The recall score the best decision tree model on train set is: 0.8845954794088201\n",
      "The recall score the best decision tree model on test set is: 0.8458475239995429\n"
     ]
    }
   ],
   "source": [
    "print('The recall score the best decision tree model on train set is:', recall_score(y_train, cart_y_pred_train, average='macro'))\n",
    "print('The recall score the best decision tree model on test set is:', recall_score(y_test, cart_y_pred, average='macro'))"
   ]
  },
  {
   "cell_type": "code",
   "execution_count": 117,
   "id": "ee71bfe7-8852-4307-8bf6-66ecf2912bba",
   "metadata": {},
   "outputs": [
    {
     "name": "stdout",
     "output_type": "stream",
     "text": [
      "The AUC score the best decision tree model on train set is: 0.8845954794088201\n",
      "The AUC score the best decision tree model on test set is: 0.8458475239995429\n"
     ]
    }
   ],
   "source": [
    "print('The AUC score the best decision tree model on train set is:', roc_auc_score(y_train, cart_y_pred_train, average='macro'))\n",
    "print('The AUC score the best decision tree model on test set is:', roc_auc_score(y_test, cart_y_pred, average='macro'))"
   ]
  },
  {
   "cell_type": "code",
   "execution_count": 118,
   "id": "493818ff-2625-41f3-8211-d12cb9dcddc5",
   "metadata": {},
   "outputs": [],
   "source": [
    "cart_y_train_pred = best_cart.predict_proba(x_train)[:,1]\n",
    "cart_y_test_pred = best_cart.predict_proba(x_test)[:,1]"
   ]
  },
  {
   "cell_type": "code",
   "execution_count": 119,
   "id": "679db20f-312d-410c-bc38-867d38b7eda9",
   "metadata": {},
   "outputs": [],
   "source": [
    "train_fpr_cart, train_tpr_cart, train_thresholds_cart = roc_curve(y_train, cart_y_train_pred)\n",
    "test_fpr_cart, test_tpr_cart, test_thresholds_cart = roc_curve(y_test, cart_y_test_pred)"
   ]
  },
  {
   "cell_type": "code",
   "execution_count": 120,
   "id": "59c25597-5d66-4831-a654-ff0e718ea967",
   "metadata": {},
   "outputs": [
    {
     "data": {
      "image/png": "[encoded data removed]",
      "text/plain": [
       "<Figure size 432x288 with 1 Axes>"
      ]
     },
     "metadata": {
      "needs_background": "light"
     },
     "output_type": "display_data"
    }
   ],
   "source": [
    "plt.plot(train_fpr_cart, train_tpr_cart, label=\"Train AUC =\"+' '+str(auc(train_fpr_cart, train_tpr_cart)))\n",
    "plt.plot(test_fpr_cart, test_tpr_cart, label=\"Test AUC =\"+' '+str(auc(test_fpr_cart, test_tpr_cart)))\n",
    "plt.legend()\n",
    "plt.xlabel(\"FPR\")\n",
    "plt.ylabel(\"TPR\")\n",
    "plt.title(\"Decision Tree: ROC Curve\")\n",
    "plt.grid()\n",
    "plt.show()"
   ]
  },
  {
   "cell_type": "markdown",
   "id": "d2e27c56-ab48-4c57-bd10-0c435c46a6b2",
   "metadata": {},
   "source": [
    "# Random Forest"
   ]
  },
  {
   "cell_type": "code",
   "execution_count": 86,
   "id": "d3d7c349-c66f-42cc-890f-18c385bd1b33",
   "metadata": {},
   "outputs": [],
   "source": [
    "#smote = SMOTE()"
   ]
  },
  {
   "cell_type": "code",
   "execution_count": 87,
   "id": "cc2e546f-4e6f-448b-9480-079f9ecb5139",
   "metadata": {},
   "outputs": [],
   "source": [
    "#x_train, y_train = smote.fit_resample(x_train, y_train)"
   ]
  },
  {
   "cell_type": "code",
   "execution_count": 123,
   "id": "b11034c9-2d77-479c-b975-40d180375255",
   "metadata": {},
   "outputs": [],
   "source": [
    "random_forest = RandomForestClassifier(criterion='gini', n_jobs=-1, class_weight='balanced_subsample')"
   ]
  },
  {
   "cell_type": "code",
   "execution_count": 124,
   "id": "22ef1491-b656-46a0-979a-694d44fb85b9",
   "metadata": {},
   "outputs": [],
   "source": [
    "params = {'n_estimators': [5, 10, 15, 20, 25, 30, 35, 40, 45, 50, 75, 100], \n",
    "          'max_depth':[None, 2, 5, 7, 9, 10, 12, 15, 17, 20, 30, 50]}"
   ]
  },
  {
   "cell_type": "code",
   "execution_count": 125,
   "id": "4d0c2b17-f7fd-4e6d-8a8b-a7f2183f29e9",
   "metadata": {},
   "outputs": [],
   "source": [
    "forest_random_search = RandomizedSearchCV(random_forest, params, cv=5, n_jobs=-1, scoring='roc_auc', return_train_score=True)"
   ]
  },
  {
   "cell_type": "code",
   "execution_count": 126,
   "id": "ce4b0410-b614-44a1-b433-0489b3d474be",
   "metadata": {},
   "outputs": [
    {
     "data": {
      "text/plain": [
       "RandomizedSearchCV(cv=5,\n",
       "                   estimator=RandomForestClassifier(class_weight='balanced_subsample',\n",
       "                                                    n_jobs=-1),\n",
       "                   n_jobs=-1,\n",
       "                   param_distributions={'max_depth': [None, 2, 5, 7, 9, 10, 12,\n",
       "                                                      15, 17, 20, 30, 50],\n",
       "                                        'n_estimators': [5, 10, 15, 20, 25, 30,\n",
       "                                                         35, 40, 45, 50, 75,\n",
       "                                                         100]},\n",
       "                   return_train_score=True, scoring='roc_auc')"
      ]
     },
     "execution_count": 126,
     "metadata": {},
     "output_type": "execute_result"
    }
   ],
   "source": [
    "forest_random_search.fit(x_train, y_train)"
   ]
  },
  {
   "cell_type": "code",
   "execution_count": 127,
   "id": "9f8d20fe-6ad2-4b05-b303-0b8d779499be",
   "metadata": {},
   "outputs": [],
   "source": [
    "best_n_estimators_rf = forest_random_search.best_estimator_.n_estimators"
   ]
  },
  {
   "cell_type": "code",
   "execution_count": 128,
   "id": "744eb6b8-2221-45cb-844e-bf84e1c138dc",
   "metadata": {},
   "outputs": [],
   "source": [
    "best_max_depth_rf = forest_random_search.best_estimator_.max_depth"
   ]
  },
  {
   "cell_type": "code",
   "execution_count": 165,
   "id": "298ef428-93e2-48c2-9d31-3d571aa5abf9",
   "metadata": {},
   "outputs": [],
   "source": [
    "best_forest = RandomForestClassifier(criterion='gini', n_estimators=best_n_estimators_rf, max_depth=best_max_depth_rf, \n",
    "                                     class_weight='balanced_subsample', min_samples_leaf=10, min_samples_split=10, n_jobs=-1)"
   ]
  },
  {
   "cell_type": "code",
   "execution_count": 166,
   "id": "a56c86bd-20e8-4ee0-9bf7-bfb96b656120",
   "metadata": {},
   "outputs": [
    {
     "data": {
      "text/plain": [
       "RandomForestClassifier(class_weight='balanced_subsample', max_depth=15,\n",
       "                       min_samples_leaf=10, min_samples_split=10,\n",
       "                       n_estimators=50, n_jobs=-1)"
      ]
     },
     "execution_count": 166,
     "metadata": {},
     "output_type": "execute_result"
    }
   ],
   "source": [
    "best_forest.fit(x_train, y_train)"
   ]
  },
  {
   "cell_type": "code",
   "execution_count": 167,
   "id": "ec441bc4-63a8-4214-8a43-2689a3daa391",
   "metadata": {},
   "outputs": [],
   "source": [
    "forest_y_pred_train = best_forest.predict(x_train)\n",
    "forest_y_pred = best_forest.predict(x_test)"
   ]
  },
  {
   "cell_type": "code",
   "execution_count": 168,
   "id": "3fab74df-263f-4db4-a9fc-c2b441e1a0e1",
   "metadata": {},
   "outputs": [
    {
     "name": "stdout",
     "output_type": "stream",
     "text": [
      "The accuracy score of the random forest model on train set is: 0.934951950991196\n",
      "The accuracy score of the random forest model on test set is: 0.9381927088712176\n"
     ]
    }
   ],
   "source": [
    "print('The accuracy score of the random forest model on train set is:', accuracy_score(y_train, forest_y_pred_train))\n",
    "print('The accuracy score of the random forest model on test set is:', accuracy_score(y_test, forest_y_pred))"
   ]
  },
  {
   "cell_type": "code",
   "execution_count": 169,
   "id": "2fcc2b34-54db-42c1-a54e-bd7a527cfc7f",
   "metadata": {},
   "outputs": [
    {
     "data": {
      "image/png": "[encoded data removed]",
      "text/plain": [
       "<Figure size 1080x360 with 4 Axes>"
      ]
     },
     "metadata": {
      "needs_background": "light"
     },
     "output_type": "display_data"
    }
   ],
   "source": [
    "plt.figure(figsize=(15,5))\n",
    "plt.subplot(1, 2, 1)\n",
    "sns.heatmap(confusion_matrix(y_train, forest_y_pred_train), annot=True)\n",
    "plt.title('Random Forest: Confusion matrix for train set')\n",
    "plt.xlabel('Predicted labels')\n",
    "plt.ylabel('True labels')\n",
    "\n",
    "plt.subplot(1, 2, 2)\n",
    "sns.heatmap(confusion_matrix(y_test, forest_y_pred), annot=True)\n",
    "plt.title('Random Forest: Confusion matrix for test set')\n",
    "plt.xlabel('Predicted labels')\n",
    "plt.ylabel('True labels')\n",
    "plt.show()"
   ]
  },
  {
   "cell_type": "code",
   "execution_count": 170,
   "id": "3cb04838-5799-42a4-82a9-149241377a1f",
   "metadata": {},
   "outputs": [
    {
     "name": "stdout",
     "output_type": "stream",
     "text": [
      "The precision score the best random forest model on train set is: 0.5447832738107107\n",
      "The precision score the best random forest model on test set is: 0.5547867121834514\n"
     ]
    }
   ],
   "source": [
    "print('The precision score the best random forest model on train set is:', precision_score(y_train, forest_y_pred_train, average='macro'))\n",
    "print('The precision score the best random forest model on test set is:', precision_score(y_test, forest_y_pred, average='macro'))"
   ]
  },
  {
   "cell_type": "code",
   "execution_count": 171,
   "id": "66d1b318-f5d2-4f67-bd36-3854432506e7",
   "metadata": {},
   "outputs": [
    {
     "name": "stdout",
     "output_type": "stream",
     "text": [
      "The recall score the best random forest model on train set is: 0.9453123844098146\n",
      "The recall score the best random forest model on test set is: 0.8057933596440869\n"
     ]
    }
   ],
   "source": [
    "print('The recall score the best random forest model on train set is:', recall_score(y_train, forest_y_pred_train, average='macro'))\n",
    "print('The recall score the best random forest model on test set is:', recall_score(y_test, forest_y_pred, average='macro'))"
   ]
  },
  {
   "cell_type": "code",
   "execution_count": 172,
   "id": "600af0ed-93b6-4191-94c0-1b951417e8b0",
   "metadata": {},
   "outputs": [
    {
     "name": "stdout",
     "output_type": "stream",
     "text": [
      "The AUC score the best random forest model on train set is: 0.9453123844098146\n",
      "The AUC score the best random forest model on test set is: 0.8057933596440869\n"
     ]
    }
   ],
   "source": [
    "print('The AUC score the best random forest model on train set is:', roc_auc_score(y_train, forest_y_pred_train, average='macro'))\n",
    "print('The AUC score the best random forest model on test set is:', roc_auc_score(y_test, forest_y_pred, average='macro'))"
   ]
  },
  {
   "cell_type": "code",
   "execution_count": 173,
   "id": "854eb7ac-8810-4007-92f5-6f1ac36a1d2b",
   "metadata": {},
   "outputs": [],
   "source": [
    "forest_y_train_pred = best_forest.predict_proba(x_train)[:,1]\n",
    "forest_y_test_pred = best_forest.predict_proba(x_test)[:,1]"
   ]
  },
  {
   "cell_type": "code",
   "execution_count": 174,
   "id": "bf25c5ec-94ff-4b31-a638-371698ed9c2d",
   "metadata": {},
   "outputs": [],
   "source": [
    "train_fpr_forest, train_tpr_forest, train_thresholds_forest = roc_curve(y_train, forest_y_train_pred)\n",
    "test_fpr_forest, test_tpr_forest, test_thresholds_forest = roc_curve(y_test, forest_y_test_pred)"
   ]
  },
  {
   "cell_type": "code",
   "execution_count": 175,
   "id": "266341db-b5bd-477e-889f-e271b1239122",
   "metadata": {},
   "outputs": [
    {
     "data": {
      "image/png": "[encoded data removed]",
      "text/plain": [
       "<Figure size 432x288 with 1 Axes>"
      ]
     },
     "metadata": {
      "needs_background": "light"
     },
     "output_type": "display_data"
    }
   ],
   "source": [
    "plt.plot(train_fpr_forest, train_tpr_forest, label=\"Train AUC =\"+' '+str(auc(train_fpr_forest, train_tpr_forest)))\n",
    "plt.plot(test_fpr_forest, test_tpr_forest, label=\"Test AUC =\"+' '+str(auc(test_fpr_forest, test_tpr_forest)))\n",
    "plt.legend()\n",
    "plt.xlabel(\"FPR\")\n",
    "plt.ylabel(\"TPR\")\n",
    "plt.title(\"Random Forest: ROC Curve\")\n",
    "plt.grid()\n",
    "plt.show()"
   ]
  },
  {
   "cell_type": "markdown",
   "id": "37f9d0d4-5eac-42ba-bb1a-81cf4ff3ce85",
   "metadata": {},
   "source": [
    "# Gradient Boosted Decision Tree"
   ]
  },
  {
   "cell_type": "code",
   "execution_count": 177,
   "id": "20a78f51-1d66-4431-b055-6c57d04d1cfd",
   "metadata": {},
   "outputs": [],
   "source": [
    "gbdt = XGBClassifier(learning_rate=1e-5, scale_pos_weight=148.0, n_jobs=-1)"
   ]
  },
  {
   "cell_type": "code",
   "execution_count": 178,
   "id": "7f976859-f0e8-4070-a011-4e0e39cd012b",
   "metadata": {},
   "outputs": [],
   "source": [
    "params = {'n_estimators': [5, 10, 15, 20, 25, 30, 35, 40, 45, 50, 75, 100], \n",
    "          'max_depth':[2, 3, 5, 7, 9, 10, 12, 15, 17, 20, 30, 50]}"
   ]
  },
  {
   "cell_type": "code",
   "execution_count": 179,
   "id": "265718fb-d387-4c01-b8c3-e549ee245789",
   "metadata": {},
   "outputs": [],
   "source": [
    "gbdt_random_search = RandomizedSearchCV(gbdt, params, cv=5, n_jobs=-1, scoring='roc_auc', return_train_score=True)"
   ]
  },
  {
   "cell_type": "code",
   "execution_count": 180,
   "id": "a5c25f84-1640-4100-8fa7-7a7f06586cdd",
   "metadata": {},
   "outputs": [
    {
     "name": "stdout",
     "output_type": "stream",
     "text": [
      "[13:39:33] WARNING: C:/Users/Administrator/workspace/xgboost-win64_release_1.4.0/src/learner.cc:1095: Starting in XGBoost 1.3.0, the default evaluation metric used with the objective 'binary:logistic' was changed from 'error' to 'logloss'. Explicitly set eval_metric if you'd like to restore the old behavior.\n"
     ]
    },
    {
     "data": {
      "text/plain": [
       "RandomizedSearchCV(cv=5,\n",
       "                   estimator=XGBClassifier(base_score=None, booster=None,\n",
       "                                           colsample_bylevel=None,\n",
       "                                           colsample_bynode=None,\n",
       "                                           colsample_bytree=None, gamma=None,\n",
       "                                           gpu_id=None, importance_type='gain',\n",
       "                                           interaction_constraints=None,\n",
       "                                           learning_rate=1e-05,\n",
       "                                           max_delta_step=None, max_depth=None,\n",
       "                                           min_child_weight=None, missing=nan,\n",
       "                                           monotone_constraints=None,\n",
       "                                           n_estimators=100, n_jobs=-1,\n",
       "                                           num_parallel_tree=None,\n",
       "                                           random_state=None, reg_alpha=None,\n",
       "                                           reg_lambda=None,\n",
       "                                           scale_pos_weight=148.0,\n",
       "                                           subsample=None, tree_method=None,\n",
       "                                           validate_parameters=None,\n",
       "                                           verbosity=None),\n",
       "                   n_jobs=-1,\n",
       "                   param_distributions={'max_depth': [2, 3, 5, 7, 9, 10, 12, 15,\n",
       "                                                      17, 20, 30, 50],\n",
       "                                        'n_estimators': [5, 10, 15, 20, 25, 30,\n",
       "                                                         35, 40, 45, 50, 75,\n",
       "                                                         100]},\n",
       "                   return_train_score=True, scoring='roc_auc')"
      ]
     },
     "execution_count": 180,
     "metadata": {},
     "output_type": "execute_result"
    }
   ],
   "source": [
    "gbdt_random_search.fit(x_train, y_train)"
   ]
  },
  {
   "cell_type": "code",
   "execution_count": 181,
   "id": "592a137c-614b-4812-880c-a26708ef4e92",
   "metadata": {},
   "outputs": [],
   "source": [
    "best_n_estimators_gbdt = gbdt_random_search.best_estimator_.n_estimators"
   ]
  },
  {
   "cell_type": "code",
   "execution_count": 182,
   "id": "0f4ef77e-30e1-448f-80e1-5bd83b7949e8",
   "metadata": {},
   "outputs": [],
   "source": [
    "best_max_depth_gbdt = gbdt_random_search.best_estimator_.max_depth"
   ]
  },
  {
   "cell_type": "code",
   "execution_count": 185,
   "id": "880dafd8-946d-4915-9ac7-01e7322058ec",
   "metadata": {},
   "outputs": [],
   "source": [
    "best_gbdt = XGBClassifier(n_estimators=best_n_estimators_gbdt, max_depth=best_max_depth_gbdt, learning_rate=1e-6,\n",
    "                          reg_lambda=0.3, min_child_weight=0.10, subsample=0.6, colsample_bytree=0.7, n_jobs=-1)"
   ]
  },
  {
   "cell_type": "code",
   "execution_count": 186,
   "id": "46783a67-1259-49f7-b381-b597f650a952",
   "metadata": {},
   "outputs": [
    {
     "name": "stdout",
     "output_type": "stream",
     "text": [
      "[14:00:36] WARNING: C:/Users/Administrator/workspace/xgboost-win64_release_1.4.0/src/learner.cc:1095: Starting in XGBoost 1.3.0, the default evaluation metric used with the objective 'binary:logistic' was changed from 'error' to 'logloss'. Explicitly set eval_metric if you'd like to restore the old behavior.\n"
     ]
    },
    {
     "data": {
      "text/plain": [
       "XGBClassifier(base_score=0.5, booster='gbtree', colsample_bylevel=1,\n",
       "              colsample_bynode=1, colsample_bytree=0.7, gamma=0, gpu_id=-1,\n",
       "              importance_type='gain', interaction_constraints='',\n",
       "              learning_rate=1e-06, max_delta_step=0, max_depth=50,\n",
       "              min_child_weight=0.1, missing=nan, monotone_constraints='()',\n",
       "              n_estimators=30, n_jobs=-1, num_parallel_tree=1, random_state=0,\n",
       "              reg_alpha=0, reg_lambda=0.3, scale_pos_weight=1, subsample=0.6,\n",
       "              tree_method='exact', validate_parameters=1, verbosity=None)"
      ]
     },
     "execution_count": 186,
     "metadata": {},
     "output_type": "execute_result"
    }
   ],
   "source": [
    "best_gbdt.fit(x_train, y_train)"
   ]
  },
  {
   "cell_type": "code",
   "execution_count": 187,
   "id": "43ba9efe-fe9c-4132-aa46-609ce568e4f1",
   "metadata": {},
   "outputs": [],
   "source": [
    "gbdt_y_pred_train = best_gbdt.predict(x_train)\n",
    "gbdt_y_pred = best_gbdt.predict(x_test)"
   ]
  },
  {
   "cell_type": "code",
   "execution_count": 188,
   "id": "691be9dd-08ee-4b33-852a-1e6c16bf494b",
   "metadata": {},
   "outputs": [
    {
     "name": "stdout",
     "output_type": "stream",
     "text": [
      "The accuracy score of the gradient boosted decision tree model on train set is: 0.9953218868863531\n",
      "The accuracy score of the gradient boosted decision tree model on test set is: 0.988904265207064\n"
     ]
    }
   ],
   "source": [
    "print('The accuracy score of the gradient boosted decision tree model on train set is:', accuracy_score(y_train, gbdt_y_pred_train))\n",
    "print('The accuracy score of the gradient boosted decision tree model on test set is:', accuracy_score(y_test, gbdt_y_pred))"
   ]
  },
  {
   "cell_type": "code",
   "execution_count": 189,
   "id": "1a767d73-2e0c-414c-9001-0d5bbaad26ae",
   "metadata": {},
   "outputs": [
    {
     "data": {
      "image/png": "[encoded data removed]",
      "text/plain": [
       "<Figure size 1080x360 with 4 Axes>"
      ]
     },
     "metadata": {
      "needs_background": "light"
     },
     "output_type": "display_data"
    }
   ],
   "source": [
    "plt.figure(figsize=(15,5))\n",
    "plt.subplot(1, 2, 1)\n",
    "sns.heatmap(confusion_matrix(y_train, gbdt_y_pred_train), annot=True, cmap='mako')\n",
    "plt.title('Gradient Boosted Decision Tree: Confusion matrix for train set')\n",
    "plt.xlabel('Predicted labels')\n",
    "plt.ylabel('True labels')\n",
    "\n",
    "plt.subplot(1, 2, 2)\n",
    "sns.heatmap(confusion_matrix(y_test, gbdt_y_pred), annot=True, cmap='mako')\n",
    "plt.title('Gradient Boosted Decision Tree: Confusion matrix for test set')\n",
    "plt.xlabel('Predicted labels')\n",
    "plt.ylabel('True labels')\n",
    "plt.show()"
   ]
  },
  {
   "cell_type": "code",
   "execution_count": 196,
   "id": "98473977-8045-46de-81fb-26564582bc61",
   "metadata": {},
   "outputs": [
    {
     "name": "stdout",
     "output_type": "stream",
     "text": [
      "The precision score the best gradient boosted decision tree model on train set is: 0.9967779671777308\n",
      "The precision score the best gradient boosted decision tree model on test set is: 0.7694702650224123\n"
     ]
    }
   ],
   "source": [
    "print('The precision score the best gradient boosted decision tree model on train set is:', precision_score(y_train, gbdt_y_pred_train, average='macro'))\n",
    "print('The precision score the best gradient boosted decision tree model on test set is:', precision_score(y_test, gbdt_y_pred, average='macro'))"
   ]
  },
  {
   "cell_type": "code",
   "execution_count": 197,
   "id": "689522b2-8ad8-4a63-a2fb-d306494f4f75",
   "metadata": {},
   "outputs": [
    {
     "name": "stdout",
     "output_type": "stream",
     "text": [
      "The recall score the best gradient boosted decision tree model on train set is: 0.6506667663717156\n",
      "The recall score the best gradient boosted decision tree model on test set is: 0.502027332939122\n"
     ]
    }
   ],
   "source": [
    "print('The recall score the best gradient boosted decision tree model on train set is:', recall_score(y_train, gbdt_y_pred_train, average='macro'))\n",
    "print('The recall score the best gradient boosted decision tree model on test set is:', recall_score(y_test, gbdt_y_pred, average='macro'))"
   ]
  },
  {
   "cell_type": "code",
   "execution_count": 198,
   "id": "152d94fd-41fd-4308-a081-e7c331c4e8f3",
   "metadata": {},
   "outputs": [
    {
     "name": "stdout",
     "output_type": "stream",
     "text": [
      "The AUC score the best gradient boosted decision tree model on train set is: 0.6506667663717157\n",
      "The AUC score the best gradient boosted decision tree model on test set is: 0.502027332939122\n"
     ]
    }
   ],
   "source": [
    "print('The AUC score the best gradient boosted decision tree model on train set is:', roc_auc_score(y_train, gbdt_y_pred_train, average='macro'))\n",
    "print('The AUC score the best gradient boosted decision tree model on test set is:', roc_auc_score(y_test, gbdt_y_pred, average='macro'))"
   ]
  },
  {
   "cell_type": "code",
   "execution_count": 193,
   "id": "c7cf973c-d1c2-446b-a5f4-dd9f396d7acb",
   "metadata": {},
   "outputs": [],
   "source": [
    "gbdt_y_train_pred = best_gbdt.predict_proba(x_train)[:,1]\n",
    "gbdt_y_test_pred = best_gbdt.predict_proba(x_test)[:,1]"
   ]
  },
  {
   "cell_type": "code",
   "execution_count": 194,
   "id": "86ae30ce-ce31-4c24-806a-4e5b09542e15",
   "metadata": {},
   "outputs": [],
   "source": [
    "train_fpr_gbdt, train_tpr_gbdt, train_thresholds_gbdt = roc_curve(y_train, gbdt_y_train_pred)\n",
    "test_fpr_gbdt, test_tpr_gbdt, test_thresholds_gbdt = roc_curve(y_test, gbdt_y_test_pred)"
   ]
  },
  {
   "cell_type": "code",
   "execution_count": 195,
   "id": "9d73e054-de13-436f-92bd-dfdbbca04d88",
   "metadata": {},
   "outputs": [
    {
     "data": {
      "image/png": "[encoded data removed]",
      "text/plain": [
       "<Figure size 432x288 with 1 Axes>"
      ]
     },
     "metadata": {
      "needs_background": "light"
     },
     "output_type": "display_data"
    }
   ],
   "source": [
    "plt.plot(train_fpr_gbdt, train_tpr_gbdt, label=\"Train AUC =\"+' '+str(auc(train_fpr_gbdt, train_tpr_gbdt)))\n",
    "plt.plot(test_fpr_gbdt, test_tpr_gbdt, label=\"Test AUC =\"+' '+str(auc(test_fpr_gbdt, test_tpr_gbdt)))\n",
    "plt.legend()\n",
    "plt.xlabel(\"FPR\")\n",
    "plt.ylabel(\"TPR\")\n",
    "plt.title(\"Gradient Boosted Decision Tree: ROC Curve\")\n",
    "plt.grid()\n",
    "plt.show()"
   ]
  },
  {
   "cell_type": "markdown",
   "id": "5a800fb6-8143-4e91-9b1d-f419af83ef7f",
   "metadata": {},
   "source": [
    "# Saving best model"
   ]
  },
  {
   "cell_type": "markdown",
   "id": "9aa29b2d-d9fc-42c8-b917-f067e7a2ba76",
   "metadata": {},
   "source": [
    "We have built 4 models for this case study i.e, Logistic Regression, Decision Tree, Random Forest and Gradient Boosted Decision Tree. Among them we see that Random Forest and Gradient Boosted Decision Tree are the best performing models. Both of them are giving us a perfect score on all the metrics. Therefore, we can finalize either of the models as our best model. For this case study, we are choosing Gradient Boosted Decision Trees as our best model."
   ]
  },
  {
   "cell_type": "code",
   "execution_count": 202,
   "id": "221b31ba-76fa-47be-be24-2c986846c039",
   "metadata": {},
   "outputs": [],
   "source": [
    "filename = 'best_model_forest.h5'\n",
    "pickle.dump(best_forest, open(filename, 'wb'))"
   ]
  },
  {
   "cell_type": "code",
   "execution_count": 205,
   "id": "55033889-67d8-4bdb-9775-0c14a2a44c94",
   "metadata": {},
   "outputs": [],
   "source": [
    "best_model = pickle.load(open(filename, 'rb'))"
   ]
  },
  {
   "cell_type": "code",
   "execution_count": 206,
   "id": "794c6108-1600-4c95-bc89-51996262d70e",
   "metadata": {},
   "outputs": [
    {
     "data": {
      "text/plain": [
       "array([0, 0, 0, ..., 0, 0, 0], dtype=int64)"
      ]
     },
     "execution_count": 206,
     "metadata": {},
     "output_type": "execute_result"
    }
   ],
   "source": [
    "best_model.predict(x_test)"
   ]
  },
  {
   "cell_type": "code",
   "execution_count": 207,
   "id": "6b66a16d-61a7-45c4-b178-0928fb384272",
   "metadata": {},
   "outputs": [
    {
     "data": {
      "text/plain": [
       "0.9381927088712176"
      ]
     },
     "execution_count": 207,
     "metadata": {},
     "output_type": "execute_result"
    }
   ],
   "source": [
    "accuracy_score(y_test, best_model.predict(x_test))"
   ]
  },
  {
   "cell_type": "code",
   "execution_count": 208,
   "id": "4f572980-9b0e-405a-a8db-26f511b90698",
   "metadata": {},
   "outputs": [],
   "source": [
    "y_pred = best_model.predict_proba(x_test)[:,1]"
   ]
  },
  {
   "cell_type": "code",
   "execution_count": 209,
   "id": "2d964ccd-529c-4395-9eab-896d18c550ad",
   "metadata": {},
   "outputs": [],
   "source": [
    "fpr, tpr, thresholds = roc_curve(y_test, y_pred)"
   ]
  },
  {
   "cell_type": "code",
   "execution_count": 212,
   "id": "110d4206-ef85-41c0-8726-65d908c27533",
   "metadata": {},
   "outputs": [
    {
     "data": {
      "text/plain": [
       "0.9259680311686973"
      ]
     },
     "execution_count": 212,
     "metadata": {},
     "output_type": "execute_result"
    }
   ],
   "source": [
    "auc(fpr, tpr)"
   ]
  },
  {
   "cell_type": "markdown",
   "id": "f41b62ba-341f-44cf-9061-2f4cada20298",
   "metadata": {},
   "source": [
    "# Summary"
   ]
  },
  {
   "cell_type": "code",
   "execution_count": 199,
   "id": "ef09636c-3638-439f-8fd4-a536ecf96550",
   "metadata": {},
   "outputs": [
    {
     "name": "stdout",
     "output_type": "stream",
     "text": [
      "+--------------------------------+------------------------+---------------+----------+-----------+--------+-------+\n",
      "|             Model              |    Hyperparameters     |   Best Value  | Accuracy | Precision | Recall |  AUC  |\n",
      "+--------------------------------+------------------------+---------------+----------+-----------+--------+-------+\n",
      "|      Logistic Regression       |      eta0/penalty      | [0.001, 'l1'] |  0.798   |   0.038   | 0.704  | 0.809 |\n",
      "|         Decision Tree          |       max_depth        |       8       |  0.873   |   0.068   | 0.818  | 0.906 |\n",
      "|         Random Forest          | n_estimators/max_depth |    [50, 15]   |  0.938   |   0.113   |  0.67  | 0.926 |\n",
      "| Gradient Boosted Decision Tree | n_estimators/max_depth |    [30, 50]   |  0.989   |    0.55   | 0.004  | 0.907 |\n",
      "+--------------------------------+------------------------+---------------+----------+-----------+--------+-------+\n"
     ]
    }
   ],
   "source": [
    "from prettytable import PrettyTable\n",
    "\n",
    "summary = PrettyTable()\n",
    "\n",
    "summary.field_names = [\"Model\", \"Hyperparameters\", \"Best Value\", \"Accuracy\", \"Precision\", \"Recall\", \"AUC\"]\n",
    "summary.add_row(['Logistic Regression', 'eta0/penalty', [best_eta0, best_penalty],\n",
    "                 round(accuracy_score(y_test, logist_y_pred), 3), \n",
    "                 round(precision_score(y_test, logist_y_pred), 3), \n",
    "                 round(recall_score(y_test, logist_y_pred), 3), \n",
    "                 round(auc(test_fpr_logist, test_tpr_logist), 3)])\n",
    "summary.add_row(['Decision Tree', 'max_depth', best_max_depth_cart,\n",
    "                 round(accuracy_score(y_test, cart_y_pred), 3), \n",
    "                 round(precision_score(y_test, cart_y_pred), 3), \n",
    "                 round(recall_score(y_test, cart_y_pred), 3), \n",
    "                 round(auc(test_fpr_cart, test_tpr_cart), 3)])\n",
    "summary.add_row(['Random Forest', 'n_estimators/max_depth', [best_n_estimators_rf, best_max_depth_rf],\n",
    "                 round(accuracy_score(y_test, forest_y_pred), 3), \n",
    "                 round(precision_score(y_test, forest_y_pred), 3), \n",
    "                 round(recall_score(y_test, forest_y_pred), 3), \n",
    "                 round(auc(test_fpr_forest, test_tpr_forest), 3)])\n",
    "summary.add_row(['Gradient Boosted Decision Tree', 'n_estimators/max_depth', [best_n_estimators_gbdt, best_max_depth_gbdt], \n",
    "                 round(accuracy_score(y_test, gbdt_y_pred), 3), \n",
    "                 round(precision_score(y_test, gbdt_y_pred), 3), \n",
    "                 round(recall_score(y_test, gbdt_y_pred), 3), \n",
    "                 round(auc(test_fpr_gbdt, test_tpr_gbdt), 3)])\n",
    "print(summary)"
   ]
  },
  {
   "cell_type": "markdown",
   "id": "247735e5-c0a1-47c0-aa42-4d70b98758a5",
   "metadata": {},
   "source": [
    "We see that tree based models perform way better than linear models. Ensemble models like Random Forest and Gradient Boosted Decision Trees performed the best. We see that the best model is Random Forest model with an AUC of 0.926"
   ]
  }
 ],
 "metadata": {
  "kernelspec": {
   "display_name": "Python 3",
   "language": "python",
   "name": "python3"
  },
  "language_info": {
   "codemirror_mode": {
    "name": "ipython",
    "version": 3
   },
   "file_extension": ".py",
   "mimetype": "text/x-python",
   "name": "python",
   "nbconvert_exporter": "python",
   "pygments_lexer": "ipython3",
   "version": "3.8.10"
  }
 },
 "nbformat": 4,
 "nbformat_minor": 5
}
